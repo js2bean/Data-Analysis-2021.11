{
 "cells": [
  {
   "cell_type": "code",
   "execution_count": 21,
   "metadata": {},
   "outputs": [],
   "source": [
    "import requests\n",
    "from urllib.parse import quote\n",
    "import pandas as pd\n",
    "from bs4 import BeautifulSoup"
   ]
  },
  {
   "cell_type": "code",
   "execution_count": 22,
   "metadata": {},
   "outputs": [],
   "source": [
    "site = 'https://www.hanbit.co.kr'\n",
    "url = f'{site}/store/books/new_book_list.html'\n",
    "res = requests.get(url)\n",
    "soup = BeautifulSoup(res.text, 'html.parser')"
   ]
  },
  {
   "cell_type": "code",
   "execution_count": 23,
   "metadata": {},
   "outputs": [
    {
     "data": {
      "text/plain": [
       "20"
      ]
     },
     "execution_count": 23,
     "metadata": {},
     "output_type": "execute_result"
    }
   ],
   "source": [
    "book_list = soup.select('.sub_book_list')\n",
    "len(book_list)"
   ]
  },
  {
   "cell_type": "code",
   "execution_count": 24,
   "metadata": {},
   "outputs": [
    {
     "data": {
      "text/plain": [
       "'하루 한 장 초등과학 365'"
      ]
     },
     "execution_count": 24,
     "metadata": {},
     "output_type": "execute_result"
    }
   ],
   "source": [
    "book = book_list[0]\n",
    "name = book.select_one('.book_tit a').get_text().strip()\n",
    "name"
   ]
  },
  {
   "cell_type": "code",
   "execution_count": 25,
   "metadata": {},
   "outputs": [
    {
     "data": {
      "text/plain": [
       "'치바 가즈요시'"
      ]
     },
     "execution_count": 25,
     "metadata": {},
     "output_type": "execute_result"
    }
   ],
   "source": [
    "author = book.select_one('.book_writer').get_text().strip()\n",
    "author"
   ]
  },
  {
   "cell_type": "code",
   "execution_count": 26,
   "metadata": {},
   "outputs": [
    {
     "data": {
      "text/plain": [
       "'/store/books/look.php?p_code=B6694310162'"
      ]
     },
     "execution_count": 26,
     "metadata": {},
     "output_type": "execute_result"
    }
   ],
   "source": [
    "href = book.select_one('a')['href']\n",
    "href"
   ]
  },
  {
   "cell_type": "code",
   "execution_count": 27,
   "metadata": {},
   "outputs": [
    {
     "data": {
      "text/plain": [
       "'https://www.hanbit.co.kr/store/books/look.php?p_code=B6694310162'"
      ]
     },
     "execution_count": 27,
     "metadata": {},
     "output_type": "execute_result"
    }
   ],
   "source": [
    "sub_url = site + href\n",
    "sub_url"
   ]
  },
  {
   "cell_type": "code",
   "execution_count": 28,
   "metadata": {},
   "outputs": [],
   "source": [
    "sub_res = requests.get(sub_url)\n",
    "sub_soup = BeautifulSoup(sub_res.text, 'html.parser')"
   ]
  },
  {
   "cell_type": "code",
   "execution_count": 29,
   "metadata": {},
   "outputs": [],
   "source": [
    "def convert_unit(s):\n",
    "    return s.replace('<span>','').replace('</span>','').replace('-', '').replace(',','').replace('<span class=\"pbr\">','')"
   ]
  },
  {
   "cell_type": "code",
   "execution_count": 30,
   "metadata": {},
   "outputs": [
    {
     "data": {
      "text/plain": [
       "'허영은  유우종 (감수) '"
      ]
     },
     "execution_count": 30,
     "metadata": {},
     "output_type": "execute_result"
    }
   ],
   "source": [
    "trans = sub_soup.select('ul.info_list span')[1]\n",
    "trans = convert_unit(str(trans))\n",
    "trans"
   ]
  },
  {
   "cell_type": "code",
   "execution_count": 31,
   "metadata": {},
   "outputs": [
    {
     "data": {
      "text/plain": [
       "'211214'"
      ]
     },
     "execution_count": 31,
     "metadata": {},
     "output_type": "execute_result"
    }
   ],
   "source": [
    "date = sub_soup.select('ul.info_list span')[2]\n",
    "date = convert_unit(str(date))\n",
    "date = date[2:]\n",
    "date"
   ]
  },
  {
   "cell_type": "code",
   "execution_count": 32,
   "metadata": {},
   "outputs": [
    {
     "data": {
      "text/plain": [
       "'416'"
      ]
     },
     "execution_count": 32,
     "metadata": {},
     "output_type": "execute_result"
    }
   ],
   "source": [
    "import re\n",
    "page = str(sub_soup.select('ul.info_list span')[3])\n",
    "page = re.sub('[^0-9]','',page) \n",
    "page"
   ]
  },
  {
   "cell_type": "code",
   "execution_count": 33,
   "metadata": {},
   "outputs": [
    {
     "data": {
      "text/plain": [
       "19800"
      ]
     },
     "execution_count": 33,
     "metadata": {},
     "output_type": "execute_result"
    }
   ],
   "source": [
    "fixed_price = sub_soup.select_one('del').get_text()\n",
    "fixed_price = int(fixed_price[:-1].replace(',',''))\n",
    "fixed_price"
   ]
  },
  {
   "cell_type": "code",
   "execution_count": 34,
   "metadata": {},
   "outputs": [
    {
     "data": {
      "text/plain": [
       "17820"
      ]
     },
     "execution_count": 34,
     "metadata": {},
     "output_type": "execute_result"
    }
   ],
   "source": [
    "price = sub_soup.select_one('span.pbr strong').get_text().strip()\n",
    "price = int(convert_unit(price))\n",
    "price"
   ]
  },
  {
   "cell_type": "code",
   "execution_count": 35,
   "metadata": {},
   "outputs": [
    {
     "data": {
      "text/plain": [
       "990"
      ]
     },
     "execution_count": 35,
     "metadata": {},
     "output_type": "execute_result"
    }
   ],
   "source": [
    "mile = sub_soup.select('span.pbr')[2]\n",
    "mile = int(convert_unit(str(mile)).split()[0][:-1])\n",
    "mile "
   ]
  },
  {
   "cell_type": "code",
   "execution_count": 36,
   "metadata": {},
   "outputs": [],
   "source": [
    "lines = []\n",
    "\n",
    "for book in book_list:\n",
    "    name = book.select_one('.book_tit a').get_text().strip()\n",
    "    author = book.select_one('.book_writer').get_text().strip()\n",
    "    \n",
    "    href = book.select_one('a')['href']\n",
    "    sub_url = site + href\n",
    "    sub_res = requests.get(sub_url)\n",
    "    sub_soup = BeautifulSoup(sub_res.text, 'html.parser')\n",
    "\n",
    "    if len(sub_soup.select('ul.info_list span')) == 5:\n",
    "        trans = str('X')\n",
    "        date = sub_soup.select('ul.info_list span')[1]\n",
    "        date = convert_unit(str(date))\n",
    "        date = date[2:]\n",
    "        page = str(sub_soup.select('ul.info_list span')[2])\n",
    "        page = re.sub('[^0-9]','',page)\n",
    "\n",
    "    elif sub_soup.select('ul.info_list strong')[5].get_text() == '구판정보 :':\n",
    "        trans = str('X')\n",
    "        date = sub_soup.select('ul.info_list span')[1]\n",
    "        date = convert_unit(str(date))\n",
    "        date = date[2:]\n",
    "        page = str(sub_soup.select('ul.info_list span')[2])\n",
    "        page = re.sub('[^0-9]','',page)\n",
    "\n",
    "    else:\n",
    "        trans = sub_soup.select('ul.info_list span')[1]\n",
    "        trans = convert_unit(str(trans))\n",
    "        date = sub_soup.select('ul.info_list span')[2]\n",
    "        date = convert_unit(str(date))\n",
    "        date = date[2:]\n",
    "        page = str(sub_soup.select('ul.info_list span')[3])\n",
    "        page = re.sub('[^0-9]','',page) \n",
    "\n",
    "\n",
    "    fixed_price = sub_soup.select_one('del').get_text()\n",
    "    fixed_price = int(fixed_price[:-1].replace(',',''))\n",
    "    price = sub_soup.select_one('span.pbr strong').get_text().strip()\n",
    "    price = int(convert_unit(price))\n",
    "    mile = sub_soup.select('span.pbr')[2]\n",
    "    mile = int(convert_unit(str(mile)).split()[0][:-1])\n",
    "    \n",
    "    lines.append([name, author, trans, date, page, fixed_price, price, mile])"
   ]
  },
  {
   "cell_type": "code",
   "execution_count": 37,
   "metadata": {},
   "outputs": [
    {
     "data": {
      "text/html": [
       "<div>\n",
       "<style scoped>\n",
       "    .dataframe tbody tr th:only-of-type {\n",
       "        vertical-align: middle;\n",
       "    }\n",
       "\n",
       "    .dataframe tbody tr th {\n",
       "        vertical-align: top;\n",
       "    }\n",
       "\n",
       "    .dataframe thead th {\n",
       "        text-align: right;\n",
       "    }\n",
       "</style>\n",
       "<table border=\"1\" class=\"dataframe\">\n",
       "  <thead>\n",
       "    <tr style=\"text-align: right;\">\n",
       "      <th></th>\n",
       "      <th>제목</th>\n",
       "      <th>저자</th>\n",
       "      <th>역자</th>\n",
       "      <th>출간일</th>\n",
       "      <th>페이지</th>\n",
       "      <th>정가</th>\n",
       "      <th>판매가</th>\n",
       "      <th>마일리지</th>\n",
       "    </tr>\n",
       "  </thead>\n",
       "  <tbody>\n",
       "    <tr>\n",
       "      <th>0</th>\n",
       "      <td>하루 한 장 초등과학 365</td>\n",
       "      <td>치바 가즈요시</td>\n",
       "      <td>허영은  유우종 (감수)</td>\n",
       "      <td>211214</td>\n",
       "      <td>416</td>\n",
       "      <td>19800</td>\n",
       "      <td>17820</td>\n",
       "      <td>990</td>\n",
       "    </tr>\n",
       "    <tr>\n",
       "      <th>1</th>\n",
       "      <td>다시, 배우다</td>\n",
       "      <td>폴 김</td>\n",
       "      <td>X</td>\n",
       "      <td>211210</td>\n",
       "      <td>304</td>\n",
       "      <td>16000</td>\n",
       "      <td>14400</td>\n",
       "      <td>800</td>\n",
       "    </tr>\n",
       "    <tr>\n",
       "      <th>2</th>\n",
       "      <td>당당한 디자인 결정을 위한 9가지 방법</td>\n",
       "      <td>톰 그리버</td>\n",
       "      <td>김민성  곽서희</td>\n",
       "      <td>211210</td>\n",
       "      <td>376</td>\n",
       "      <td>22000</td>\n",
       "      <td>19800</td>\n",
       "      <td>1100</td>\n",
       "    </tr>\n",
       "    <tr>\n",
       "      <th>3</th>\n",
       "      <td>365 부모 말하기 연습 일력(스프링북)</td>\n",
       "      <td>박재연 , 공인영</td>\n",
       "      <td>X</td>\n",
       "      <td>211201</td>\n",
       "      <td>384</td>\n",
       "      <td>18000</td>\n",
       "      <td>16200</td>\n",
       "      <td>900</td>\n",
       "    </tr>\n",
       "    <tr>\n",
       "      <th>4</th>\n",
       "      <td>공학도를 위한 수치해석(8판)</td>\n",
       "      <td>Steven C.Chapra , Raymond P. Canale</td>\n",
       "      <td>나양  이승배  임윤철</td>\n",
       "      <td>211130</td>\n",
       "      <td>600</td>\n",
       "      <td>36000</td>\n",
       "      <td>36000</td>\n",
       "      <td>1080</td>\n",
       "    </tr>\n",
       "    <tr>\n",
       "      <th>5</th>\n",
       "      <td>엑셀 매크로&amp;VBA 업무 공략집</td>\n",
       "      <td>최준선</td>\n",
       "      <td>X</td>\n",
       "      <td>211130</td>\n",
       "      <td>328</td>\n",
       "      <td>22000</td>\n",
       "      <td>19800</td>\n",
       "      <td>1100</td>\n",
       "    </tr>\n",
       "    <tr>\n",
       "      <th>6</th>\n",
       "      <td>데이터 과학자 되는 법</td>\n",
       "      <td>에밀리 로빈슨 , 재클린 놀리스</td>\n",
       "      <td>이창화</td>\n",
       "      <td>211126</td>\n",
       "      <td>372</td>\n",
       "      <td>24000</td>\n",
       "      <td>21600</td>\n",
       "      <td>1200</td>\n",
       "    </tr>\n",
       "    <tr>\n",
       "      <th>7</th>\n",
       "      <td>돈 되는 기획</td>\n",
       "      <td>김도균</td>\n",
       "      <td>X</td>\n",
       "      <td>211126</td>\n",
       "      <td>240</td>\n",
       "      <td>14500</td>\n",
       "      <td>13050</td>\n",
       "      <td>725</td>\n",
       "    </tr>\n",
       "    <tr>\n",
       "      <th>8</th>\n",
       "      <td>빠르게 찾아 바로 적용하는 엑셀 에센스 사전 100</td>\n",
       "      <td>한은숙</td>\n",
       "      <td>X</td>\n",
       "      <td>211125</td>\n",
       "      <td>300</td>\n",
       "      <td>18000</td>\n",
       "      <td>16200</td>\n",
       "      <td>900</td>\n",
       "    </tr>\n",
       "    <tr>\n",
       "      <th>9</th>\n",
       "      <td>초등 어휘력이 공부력이다</td>\n",
       "      <td>박명선</td>\n",
       "      <td>X</td>\n",
       "      <td>211125</td>\n",
       "      <td>412</td>\n",
       "      <td>18000</td>\n",
       "      <td>16200</td>\n",
       "      <td>900</td>\n",
       "    </tr>\n",
       "    <tr>\n",
       "      <th>10</th>\n",
       "      <td>만화로 배우는 의학의 역사(개정판)</td>\n",
       "      <td>장 노엘 파비아니 , 필리프 베르코비치 , 김모 , 조한나</td>\n",
       "      <td>X</td>\n",
       "      <td>211115</td>\n",
       "      <td>296</td>\n",
       "      <td>20800</td>\n",
       "      <td>18720</td>\n",
       "      <td>1040</td>\n",
       "    </tr>\n",
       "    <tr>\n",
       "      <th>11</th>\n",
       "      <td>스토리텔링 우동이즘의 잘 팔리는 웹툰, 웹소설 이야기 만들기</td>\n",
       "      <td>우동이즘(이동우)</td>\n",
       "      <td>X</td>\n",
       "      <td>211115</td>\n",
       "      <td>232</td>\n",
       "      <td>16000</td>\n",
       "      <td>14400</td>\n",
       "      <td>800</td>\n",
       "    </tr>\n",
       "    <tr>\n",
       "      <th>12</th>\n",
       "      <td>중학교 입학 가이드</td>\n",
       "      <td>배혜림</td>\n",
       "      <td>X</td>\n",
       "      <td>211111</td>\n",
       "      <td>376</td>\n",
       "      <td>16500</td>\n",
       "      <td>14850</td>\n",
       "      <td>825</td>\n",
       "    </tr>\n",
       "    <tr>\n",
       "      <th>13</th>\n",
       "      <td>보고서 작성 실무 강의(개정판)</td>\n",
       "      <td>홍장표</td>\n",
       "      <td>X</td>\n",
       "      <td>211108</td>\n",
       "      <td>400</td>\n",
       "      <td>18000</td>\n",
       "      <td>16200</td>\n",
       "      <td>900</td>\n",
       "    </tr>\n",
       "    <tr>\n",
       "      <th>14</th>\n",
       "      <td>비겁한 돈</td>\n",
       "      <td>황현희 , 제갈현열</td>\n",
       "      <td>X</td>\n",
       "      <td>211108</td>\n",
       "      <td>248</td>\n",
       "      <td>16000</td>\n",
       "      <td>14400</td>\n",
       "      <td>800</td>\n",
       "    </tr>\n",
       "    <tr>\n",
       "      <th>15</th>\n",
       "      <td>나도 영문 손글씨 잘 쓰면 소원이 없겠네</td>\n",
       "      <td>윤정희(리제 캘리그라피)</td>\n",
       "      <td>X</td>\n",
       "      <td>211105</td>\n",
       "      <td>240</td>\n",
       "      <td>16800</td>\n",
       "      <td>15120</td>\n",
       "      <td>840</td>\n",
       "    </tr>\n",
       "    <tr>\n",
       "      <th>16</th>\n",
       "      <td>구글 BERT의 정석</td>\n",
       "      <td>수다르산 라비찬디란</td>\n",
       "      <td>전희원  정승환  김형준</td>\n",
       "      <td>211103</td>\n",
       "      <td>368</td>\n",
       "      <td>34000</td>\n",
       "      <td>30600</td>\n",
       "      <td>1700</td>\n",
       "    </tr>\n",
       "    <tr>\n",
       "      <th>17</th>\n",
       "      <td>1000개 숨은그림찾기 몬스터 : 찾아도 찾아도 끝판왕</td>\n",
       "      <td>김확실</td>\n",
       "      <td>X</td>\n",
       "      <td>211102</td>\n",
       "      <td>96</td>\n",
       "      <td>8000</td>\n",
       "      <td>7200</td>\n",
       "      <td>400</td>\n",
       "    </tr>\n",
       "    <tr>\n",
       "      <th>18</th>\n",
       "      <td>1000개 숨은그림찾기 보물찾기 : 찾아도 찾아도 끝판왕</td>\n",
       "      <td>전진희</td>\n",
       "      <td>X</td>\n",
       "      <td>211102</td>\n",
       "      <td>96</td>\n",
       "      <td>8000</td>\n",
       "      <td>7200</td>\n",
       "      <td>400</td>\n",
       "    </tr>\n",
       "    <tr>\n",
       "      <th>19</th>\n",
       "      <td>1000개 숨은그림찾기 탈것 : 찾아도 찾아도 끝판왕</td>\n",
       "      <td>이한이</td>\n",
       "      <td>X</td>\n",
       "      <td>211102</td>\n",
       "      <td>96</td>\n",
       "      <td>8000</td>\n",
       "      <td>7200</td>\n",
       "      <td>400</td>\n",
       "    </tr>\n",
       "  </tbody>\n",
       "</table>\n",
       "</div>"
      ],
      "text/plain": [
       "                                   제목                                   저자  \\\n",
       "0                     하루 한 장 초등과학 365                              치바 가즈요시   \n",
       "1                             다시, 배우다                                  폴 김   \n",
       "2               당당한 디자인 결정을 위한 9가지 방법                                톰 그리버   \n",
       "3              365 부모 말하기 연습 일력(스프링북)                            박재연 , 공인영   \n",
       "4                    공학도를 위한 수치해석(8판)  Steven C.Chapra , Raymond P. Canale   \n",
       "5                   엑셀 매크로&VBA 업무 공략집                                  최준선   \n",
       "6                        데이터 과학자 되는 법                    에밀리 로빈슨 , 재클린 놀리스   \n",
       "7                             돈 되는 기획                                  김도균   \n",
       "8        빠르게 찾아 바로 적용하는 엑셀 에센스 사전 100                                  한은숙   \n",
       "9                       초등 어휘력이 공부력이다                                  박명선   \n",
       "10                만화로 배우는 의학의 역사(개정판)     장 노엘 파비아니 , 필리프 베르코비치 , 김모 , 조한나   \n",
       "11  스토리텔링 우동이즘의 잘 팔리는 웹툰, 웹소설 이야기 만들기                            우동이즘(이동우)   \n",
       "12                         중학교 입학 가이드                                  배혜림   \n",
       "13                  보고서 작성 실무 강의(개정판)                                  홍장표   \n",
       "14                              비겁한 돈                           황현희 , 제갈현열   \n",
       "15             나도 영문 손글씨 잘 쓰면 소원이 없겠네                        윤정희(리제 캘리그라피)   \n",
       "16                        구글 BERT의 정석                           수다르산 라비찬디란   \n",
       "17     1000개 숨은그림찾기 몬스터 : 찾아도 찾아도 끝판왕                                  김확실   \n",
       "18    1000개 숨은그림찾기 보물찾기 : 찾아도 찾아도 끝판왕                                  전진희   \n",
       "19      1000개 숨은그림찾기 탈것 : 찾아도 찾아도 끝판왕                                  이한이   \n",
       "\n",
       "                역자     출간일  페이지     정가    판매가  마일리지  \n",
       "0   허영은  유우종 (감수)   211214  416  19800  17820   990  \n",
       "1                X  211210  304  16000  14400   800  \n",
       "2        김민성  곽서희   211210  376  22000  19800  1100  \n",
       "3                X  211201  384  18000  16200   900  \n",
       "4    나양  이승배  임윤철   211130  600  36000  36000  1080  \n",
       "5                X  211130  328  22000  19800  1100  \n",
       "6             이창화   211126  372  24000  21600  1200  \n",
       "7                X  211126  240  14500  13050   725  \n",
       "8                X  211125  300  18000  16200   900  \n",
       "9                X  211125  412  18000  16200   900  \n",
       "10               X  211115  296  20800  18720  1040  \n",
       "11               X  211115  232  16000  14400   800  \n",
       "12               X  211111  376  16500  14850   825  \n",
       "13               X  211108  400  18000  16200   900  \n",
       "14               X  211108  248  16000  14400   800  \n",
       "15               X  211105  240  16800  15120   840  \n",
       "16  전희원  정승환  김형준   211103  368  34000  30600  1700  \n",
       "17               X  211102   96   8000   7200   400  \n",
       "18               X  211102   96   8000   7200   400  \n",
       "19               X  211102   96   8000   7200   400  "
      ]
     },
     "execution_count": 37,
     "metadata": {},
     "output_type": "execute_result"
    }
   ],
   "source": [
    "df = pd.DataFrame(lines, columns=['제목', '저자', '역자', '출간일', '페이지', '정가', '판매가', '마일리지'])\n",
    "df"
   ]
  },
  {
   "cell_type": "code",
   "execution_count": 38,
   "metadata": {},
   "outputs": [
    {
     "data": {
      "application/vnd.jupyter.widget-view+json": {
       "model_id": "c102c8bb6815428196a05152964caebe",
       "version_major": 2,
       "version_minor": 0
      },
      "text/plain": [
       "  0%|          | 0/10 [00:00<?, ?it/s]"
      ]
     },
     "metadata": {},
     "output_type": "display_data"
    },
    {
     "ename": "ValueError",
     "evalue": "invalid literal for int() with base 10: '대부분 LSTM 모델을 대표적으로 설명하기에 이 대목에서 국뽕이 상승하고 뿌듯했다..'",
     "output_type": "error",
     "traceback": [
      "\u001b[1;31m---------------------------------------------------------------------------\u001b[0m",
      "\u001b[1;31mValueError\u001b[0m                                Traceback (most recent call last)",
      "\u001b[1;32m<ipython-input-38-dfb91e446cfd>\u001b[0m in \u001b[0;36m<module>\u001b[1;34m\u001b[0m\n\u001b[0;32m     43\u001b[0m \u001b[1;33m\u001b[0m\u001b[0m\n\u001b[0;32m     44\u001b[0m         \u001b[0mfixed_price\u001b[0m \u001b[1;33m=\u001b[0m \u001b[0msub_soup\u001b[0m\u001b[1;33m.\u001b[0m\u001b[0mselect_one\u001b[0m\u001b[1;33m(\u001b[0m\u001b[1;34m'del'\u001b[0m\u001b[1;33m)\u001b[0m\u001b[1;33m.\u001b[0m\u001b[0mget_text\u001b[0m\u001b[1;33m(\u001b[0m\u001b[1;33m)\u001b[0m\u001b[1;33m\u001b[0m\u001b[1;33m\u001b[0m\u001b[0m\n\u001b[1;32m---> 45\u001b[1;33m         \u001b[0mfixed_price\u001b[0m \u001b[1;33m=\u001b[0m \u001b[0mint\u001b[0m\u001b[1;33m(\u001b[0m\u001b[0mfixed_price\u001b[0m\u001b[1;33m[\u001b[0m\u001b[1;33m:\u001b[0m\u001b[1;33m-\u001b[0m\u001b[1;36m1\u001b[0m\u001b[1;33m]\u001b[0m\u001b[1;33m.\u001b[0m\u001b[0mreplace\u001b[0m\u001b[1;33m(\u001b[0m\u001b[1;34m','\u001b[0m\u001b[1;33m,\u001b[0m\u001b[1;34m''\u001b[0m\u001b[1;33m)\u001b[0m\u001b[1;33m)\u001b[0m\u001b[1;33m\u001b[0m\u001b[1;33m\u001b[0m\u001b[0m\n\u001b[0m\u001b[0;32m     46\u001b[0m         \u001b[0mprice\u001b[0m \u001b[1;33m=\u001b[0m \u001b[0msub_soup\u001b[0m\u001b[1;33m.\u001b[0m\u001b[0mselect_one\u001b[0m\u001b[1;33m(\u001b[0m\u001b[1;34m'span.pbr strong'\u001b[0m\u001b[1;33m)\u001b[0m\u001b[1;33m.\u001b[0m\u001b[0mget_text\u001b[0m\u001b[1;33m(\u001b[0m\u001b[1;33m)\u001b[0m\u001b[1;33m.\u001b[0m\u001b[0mstrip\u001b[0m\u001b[1;33m(\u001b[0m\u001b[1;33m)\u001b[0m\u001b[1;33m\u001b[0m\u001b[1;33m\u001b[0m\u001b[0m\n\u001b[0;32m     47\u001b[0m         \u001b[0mprice\u001b[0m \u001b[1;33m=\u001b[0m \u001b[0mint\u001b[0m\u001b[1;33m(\u001b[0m\u001b[0mconvert_unit\u001b[0m\u001b[1;33m(\u001b[0m\u001b[0mprice\u001b[0m\u001b[1;33m)\u001b[0m\u001b[1;33m)\u001b[0m\u001b[1;33m\u001b[0m\u001b[1;33m\u001b[0m\u001b[0m\n",
      "\u001b[1;31mValueError\u001b[0m: invalid literal for int() with base 10: '대부분 LSTM 모델을 대표적으로 설명하기에 이 대목에서 국뽕이 상승하고 뿌듯했다..'"
     ]
    }
   ],
   "source": [
    "from tqdm.notebook import tqdm      #진행률 보여줌\n",
    "\n",
    "lines = []\n",
    "for pag in tqdm(range(1,11)):\n",
    "    url = 'https://www.hanbit.co.kr/store/books/new_book_list.html?page='+str(pag)\n",
    "    res = requests.get(url)\n",
    "    soup = BeautifulSoup(res.text, 'html.parser')\n",
    "    book_list = soup.select('.sub_book_list')\n",
    "\n",
    "    for book in book_list:\n",
    "        name = book.select_one('.book_tit a').get_text().strip()\n",
    "        author = book.select_one('.book_writer').get_text().strip()\n",
    "        \n",
    "        href = book.select_one('a')['href']\n",
    "        sub_url = site + href\n",
    "        sub_res = requests.get(sub_url)\n",
    "        sub_soup = BeautifulSoup(sub_res.text, 'html.parser')\n",
    "\n",
    "        if len(sub_soup.select('ul.info_list span')) == 5:\n",
    "            trans = str('X')\n",
    "            date = sub_soup.select('ul.info_list span')[1]\n",
    "            date = convert_unit(str(date))\n",
    "            date = date[2:]\n",
    "            page = str(sub_soup.select('ul.info_list span')[2])\n",
    "            page = re.sub('[^0-9]','',page)\n",
    "\n",
    "        elif sub_soup.select('ul.info_list strong')[5].get_text() == '구판정보 :':\n",
    "            trans = str('X')\n",
    "            date = sub_soup.select('ul.info_list span')[1]\n",
    "            date = convert_unit(str(date))\n",
    "            date = date[2:]\n",
    "            page = str(sub_soup.select('ul.info_list span')[2])\n",
    "            page = re.sub('[^0-9]','',page)\n",
    "\n",
    "        else:\n",
    "            trans = sub_soup.select('ul.info_list span')[1]\n",
    "            trans = convert_unit(str(trans))\n",
    "            date = sub_soup.select('ul.info_list span')[2]\n",
    "            date = convert_unit(str(date))\n",
    "            date = date[2:]\n",
    "            page = str(sub_soup.select('ul.info_list span')[3])\n",
    "            page = re.sub('[^0-9]','',page) \n",
    "\n",
    "        fixed_price = sub_soup.select_one('del').get_text()\n",
    "        fixed_price = int(fixed_price[:-1].replace(',',''))\n",
    "        price = sub_soup.select_one('span.pbr strong').get_text().strip()\n",
    "        price = int(convert_unit(price))\n",
    "        mile = sub_soup.select('span.pbr')[2]\n",
    "        mile = int(convert_unit(str(mile)).split()[0][:-1])\n",
    "        lines.append([name, author, trans, date, page, fixed_price, price, mile])"
   ]
  },
  {
   "cell_type": "code",
   "execution_count": null,
   "metadata": {},
   "outputs": [
    {
     "data": {
      "text/html": [
       "<div>\n",
       "<style scoped>\n",
       "    .dataframe tbody tr th:only-of-type {\n",
       "        vertical-align: middle;\n",
       "    }\n",
       "\n",
       "    .dataframe tbody tr th {\n",
       "        vertical-align: top;\n",
       "    }\n",
       "\n",
       "    .dataframe thead th {\n",
       "        text-align: right;\n",
       "    }\n",
       "</style>\n",
       "<table border=\"1\" class=\"dataframe\">\n",
       "  <thead>\n",
       "    <tr style=\"text-align: right;\">\n",
       "      <th></th>\n",
       "      <th>제목</th>\n",
       "      <th>저자</th>\n",
       "      <th>역자</th>\n",
       "      <th>출간일</th>\n",
       "      <th>페이지</th>\n",
       "      <th>정가</th>\n",
       "      <th>판매가</th>\n",
       "      <th>마일리지</th>\n",
       "    </tr>\n",
       "  </thead>\n",
       "  <tbody>\n",
       "    <tr>\n",
       "      <th>0</th>\n",
       "      <td>1000개 숨은그림찾기 탈것 : 찾아도 찾아도 끝판왕</td>\n",
       "      <td>이한이</td>\n",
       "      <td>X</td>\n",
       "      <td>211102</td>\n",
       "      <td>96</td>\n",
       "      <td>8000</td>\n",
       "      <td>7200</td>\n",
       "      <td>400</td>\n",
       "    </tr>\n",
       "    <tr>\n",
       "      <th>1</th>\n",
       "      <td>제대로 배우는 수학적 최적화</td>\n",
       "      <td>우메타니 슌지</td>\n",
       "      <td>김모세</td>\n",
       "      <td>210930</td>\n",
       "      <td>424</td>\n",
       "      <td>38000</td>\n",
       "      <td>34200</td>\n",
       "      <td>1900</td>\n",
       "    </tr>\n",
       "    <tr>\n",
       "      <th>2</th>\n",
       "      <td>스파크를 이용한 자연어 처리</td>\n",
       "      <td>앨릭스 토머스</td>\n",
       "      <td>이창현</td>\n",
       "      <td>210820</td>\n",
       "      <td>440</td>\n",
       "      <td>34000</td>\n",
       "      <td>30600</td>\n",
       "      <td>1700</td>\n",
       "    </tr>\n",
       "    <tr>\n",
       "      <th>3</th>\n",
       "      <td>재미있고 빠른 숫자 쓰기 1권 : 0부터 50까지</td>\n",
       "      <td>한빛학습연구회</td>\n",
       "      <td>X</td>\n",
       "      <td>210726</td>\n",
       "      <td>88</td>\n",
       "      <td>7500</td>\n",
       "      <td>6750</td>\n",
       "      <td>375</td>\n",
       "    </tr>\n",
       "    <tr>\n",
       "      <th>4</th>\n",
       "      <td>IT CookBook, 쉽게 배우는 소프트웨어 공학(2판)</td>\n",
       "      <td>김치수</td>\n",
       "      <td>X</td>\n",
       "      <td>210630</td>\n",
       "      <td>560</td>\n",
       "      <td>30000</td>\n",
       "      <td>30000</td>\n",
       "      <td>900</td>\n",
       "    </tr>\n",
       "    <tr>\n",
       "      <th>5</th>\n",
       "      <td>STEM CookBook, 기초 선형대수학(2판)</td>\n",
       "      <td>이광연 , 설한국 , 김진수</td>\n",
       "      <td>X</td>\n",
       "      <td>210607</td>\n",
       "      <td>440</td>\n",
       "      <td>26000</td>\n",
       "      <td>26000</td>\n",
       "      <td>780</td>\n",
       "    </tr>\n",
       "    <tr>\n",
       "      <th>6</th>\n",
       "      <td>고성능 파이썬(2판)</td>\n",
       "      <td>미샤 고렐릭 , 이안 오스발트</td>\n",
       "      <td>오현석</td>\n",
       "      <td>210510</td>\n",
       "      <td>528</td>\n",
       "      <td>36000</td>\n",
       "      <td>32400</td>\n",
       "      <td>1800</td>\n",
       "    </tr>\n",
       "    <tr>\n",
       "      <th>7</th>\n",
       "      <td>실전 시계열 분석</td>\n",
       "      <td>에일린 닐슨</td>\n",
       "      <td>박찬성</td>\n",
       "      <td>210409</td>\n",
       "      <td>568</td>\n",
       "      <td>38000</td>\n",
       "      <td>34200</td>\n",
       "      <td>1900</td>\n",
       "    </tr>\n",
       "    <tr>\n",
       "      <th>8</th>\n",
       "      <td>디노 첫걸음</td>\n",
       "      <td>페르난도 돌리오</td>\n",
       "      <td>우정은</td>\n",
       "      <td>210310</td>\n",
       "      <td>160</td>\n",
       "      <td>17000</td>\n",
       "      <td>15300</td>\n",
       "      <td>850</td>\n",
       "    </tr>\n",
       "    <tr>\n",
       "      <th>9</th>\n",
       "      <td>웹 애플리케이션 보안</td>\n",
       "      <td>앤드루 호프먼</td>\n",
       "      <td>최용</td>\n",
       "      <td>210219</td>\n",
       "      <td>372</td>\n",
       "      <td>30000</td>\n",
       "      <td>27000</td>\n",
       "      <td>1500</td>\n",
       "    </tr>\n",
       "  </tbody>\n",
       "</table>\n",
       "</div>"
      ],
      "text/plain": [
       "                                 제목                저자    역자     출간일  페이지  \\\n",
       "0     1000개 숨은그림찾기 탈것 : 찾아도 찾아도 끝판왕               이한이     X  211102   96   \n",
       "1                   제대로 배우는 수학적 최적화           우메타니 슌지  김모세   210930  424   \n",
       "2                   스파크를 이용한 자연어 처리           앨릭스 토머스  이창현   210820  440   \n",
       "3       재미있고 빠른 숫자 쓰기 1권 : 0부터 50까지           한빛학습연구회     X  210726   88   \n",
       "4  IT CookBook, 쉽게 배우는 소프트웨어 공학(2판)               김치수     X  210630  560   \n",
       "5       STEM CookBook, 기초 선형대수학(2판)   이광연 , 설한국 , 김진수     X  210607  440   \n",
       "6                       고성능 파이썬(2판)  미샤 고렐릭 , 이안 오스발트  오현석   210510  528   \n",
       "7                         실전 시계열 분석            에일린 닐슨  박찬성   210409  568   \n",
       "8                            디노 첫걸음          페르난도 돌리오  우정은   210310  160   \n",
       "9                       웹 애플리케이션 보안           앤드루 호프먼   최용   210219  372   \n",
       "\n",
       "      정가    판매가  마일리지  \n",
       "0   8000   7200   400  \n",
       "1  38000  34200  1900  \n",
       "2  34000  30600  1700  \n",
       "3   7500   6750   375  \n",
       "4  30000  30000   900  \n",
       "5  26000  26000   780  \n",
       "6  36000  32400  1800  \n",
       "7  38000  34200  1900  \n",
       "8  17000  15300   850  \n",
       "9  30000  27000  1500  "
      ]
     },
     "execution_count": 19,
     "metadata": {},
     "output_type": "execute_result"
    }
   ],
   "source": [
    "df = pd.DataFrame(lines, columns=['제목', '저자', '역자', '출간일', '페이지', '정가', '판매가', '마일리지'])\n",
    "df\n",
    "\n",
    "# 9개밖에 안나와요..."
   ]
  },
  {
   "cell_type": "code",
   "execution_count": null,
   "metadata": {},
   "outputs": [],
   "source": []
  }
 ],
 "metadata": {
  "interpreter": {
   "hash": "9f9dcbc3dbda920e9125360fe0104a4d858dfb1763bce9adddd9113b29fead37"
  },
  "kernelspec": {
   "display_name": "Python 3.8.8 64-bit ('base': conda)",
   "language": "python",
   "name": "python3"
  },
  "language_info": {
   "codemirror_mode": {
    "name": "ipython",
    "version": 3
   },
   "file_extension": ".py",
   "mimetype": "text/x-python",
   "name": "python",
   "nbconvert_exporter": "python",
   "pygments_lexer": "ipython3",
   "version": "3.8.8"
  },
  "orig_nbformat": 4
 },
 "nbformat": 4,
 "nbformat_minor": 2
}
