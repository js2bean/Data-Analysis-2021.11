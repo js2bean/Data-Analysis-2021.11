{
 "cells": [
  {
   "cell_type": "code",
   "execution_count": 69,
   "metadata": {},
   "outputs": [],
   "source": [
    "import requests\n",
    "from urllib.parse import quote\n",
    "import pandas as pd\n",
    "from bs4 import BeautifulSoup"
   ]
  },
  {
   "cell_type": "code",
   "execution_count": 70,
   "metadata": {},
   "outputs": [],
   "source": [
    "site = 'http://book.interpark.com'\n",
    "url = f'{site}/display/collectlist.do?_method=BestsellerHourNew201605&bestTp=1&dispNo=028&smid1=s_menu&smid2=bestseller'\n",
    "req = requests.get(url)\n",
    "html = req.text\n",
    "#html"
   ]
  },
  {
   "cell_type": "code",
   "execution_count": 71,
   "metadata": {},
   "outputs": [],
   "source": [
    "soup = BeautifulSoup(html, 'html.parser')\n",
    "#soup"
   ]
  },
  {
   "cell_type": "code",
   "execution_count": 72,
   "metadata": {},
   "outputs": [
    {
     "data": {
      "text/plain": [
       "15"
      ]
     },
     "execution_count": 72,
     "metadata": {},
     "output_type": "execute_result"
    }
   ],
   "source": [
    "lis = soup.select('#content > div.rankBestWrapper > div.rankBestContainer > div.rankBestContents > div > div.rankBestContentList > ol > li')\n",
    "len(lis)"
   ]
  },
  {
   "cell_type": "code",
   "execution_count": 73,
   "metadata": {},
   "outputs": [
    {
     "data": {
      "text/plain": [
       "'/product/BookDisplay.do?_method=detail&sc.shopNo=0000400000&sc.prdNo=354069935&sc.saNo=003003001&bid1=Best_zone&bid2=LiveRanking&bid3=PRD&bid4=001'"
      ]
     },
     "execution_count": 73,
     "metadata": {},
     "output_type": "execute_result"
    }
   ],
   "source": [
    "li = lis[0]\n",
    "href = li.find('a')['href']\n",
    "href"
   ]
  },
  {
   "cell_type": "code",
   "execution_count": 74,
   "metadata": {},
   "outputs": [],
   "source": [
    "if len(li.select('.rankBtn_ctrl')) == 1:\n",
    "    rank = str(li.select_one('.rankBtn_ctrl')['class'][1]).split('_B')[1]\n",
    "else:\n",
    "    rank = str(li.select('.rankBtn_ctrl')[0]['class'][1]).split('M0')[1]+str(li.select('.rankBtn_ctrl')[1]['class'][1]).split('M0')[1]\n",
    "\n",
    "\n",
    "#li_10.select('.rankBtn_ctrl')[0]['class'][1]\n"
   ]
  },
  {
   "cell_type": "code",
   "execution_count": 75,
   "metadata": {},
   "outputs": [
    {
     "data": {
      "text/plain": [
       "'트렌드 코리아 2022 '"
      ]
     },
     "execution_count": 75,
     "metadata": {},
     "output_type": "execute_result"
    }
   ],
   "source": [
    "name = li.select_one('div.itemName').get_text()\n",
    "name"
   ]
  },
  {
   "cell_type": "code",
   "execution_count": 76,
   "metadata": {},
   "outputs": [
    {
     "data": {
      "text/plain": [
       "'김난도(金蘭都), 전미영, 최지혜, 이향은, 이준영'"
      ]
     },
     "execution_count": 76,
     "metadata": {},
     "output_type": "execute_result"
    }
   ],
   "source": [
    "author = li.select_one('span.author').get_text()\n",
    "author"
   ]
  },
  {
   "cell_type": "code",
   "execution_count": 77,
   "metadata": {},
   "outputs": [
    {
     "data": {
      "text/plain": [
       "'미래의창'"
      ]
     },
     "execution_count": 77,
     "metadata": {},
     "output_type": "execute_result"
    }
   ],
   "source": [
    "pub = li.select_one('span.company').get_text()\n",
    "pub"
   ]
  },
  {
   "cell_type": "code",
   "execution_count": 78,
   "metadata": {},
   "outputs": [
    {
     "data": {
      "text/plain": [
       "'http://book.interpark.com/product/BookDisplay.do?_method=detail&sc.shopNo=0000400000&sc.prdNo=354069935&sc.saNo=003003001&bid1=Best_zone&bid2=LiveRanking&bid3=PRD&bid4=001'"
      ]
     },
     "execution_count": 78,
     "metadata": {},
     "output_type": "execute_result"
    }
   ],
   "source": [
    "sub_url = site + href\n",
    "sub_url"
   ]
  },
  {
   "cell_type": "code",
   "execution_count": 79,
   "metadata": {},
   "outputs": [],
   "source": [
    "sub_req = requests.get(sub_url)\n",
    "sub_html = sub_req.text\n",
    "sub_soup = BeautifulSoup(sub_html, 'html.parser')"
   ]
  },
  {
   "cell_type": "code",
   "execution_count": 91,
   "metadata": {},
   "outputs": [
    {
     "data": {
      "text/plain": [
       "18000"
      ]
     },
     "execution_count": 91,
     "metadata": {},
     "output_type": "execute_result"
    }
   ],
   "source": [
    "fixed_price1 = sub_soup.select_one('p.fixedPrice').get_text()\n",
    "fixed_price = int(fixed_price1.replace('원','').replace(',',''))\n",
    "fixed_price"
   ]
  },
  {
   "cell_type": "code",
   "execution_count": 92,
   "metadata": {},
   "outputs": [
    {
     "data": {
      "text/plain": [
       "16200"
      ]
     },
     "execution_count": 92,
     "metadata": {},
     "output_type": "execute_result"
    }
   ],
   "source": [
    "price1 = sub_soup.select_one('span.price').get_text()\n",
    "price = int(price1.replace(',',''))\n",
    "price"
   ]
  },
  {
   "cell_type": "code",
   "execution_count": 93,
   "metadata": {},
   "outputs": [
    {
     "data": {
      "text/plain": [
       "'2021년 09월 01일'"
      ]
     },
     "execution_count": 93,
     "metadata": {},
     "output_type": "execute_result"
    }
   ],
   "source": [
    "date1 = sub_soup.select_one('ul.bInfo_txt').get_text()\n",
    "date = ' '.join(date1.strip().split()[-9:-6])\n",
    "date"
   ]
  },
  {
   "cell_type": "code",
   "execution_count": 94,
   "metadata": {},
   "outputs": [],
   "source": [
    "page1 = sub_soup.select_one('ul.bInfo_txt').get_text()\n",
    "page = int(page1.strip().split()[-4])"
   ]
  },
  {
   "cell_type": "code",
   "execution_count": 95,
   "metadata": {},
   "outputs": [],
   "source": [
    "lines = []\n",
    "\n",
    "for li in lis:\n",
    "    href = li.find('a')['href']\n",
    "    \n",
    "    if len(li.select('.rankBtn_ctrl')) == 1:\n",
    "        rank = str(li.select_one('.rankBtn_ctrl')['class'][1]).split('_B')[1]\n",
    "    else:\n",
    "        rank = str(li.select('.rankBtn_ctrl')[0]['class'][1]).split('M0')[1] + str(li.select('.rankBtn_ctrl')[1]['class'][1]).split('M0')[1]\n",
    "    \n",
    "\n",
    "    name = li.select_one('div.itemName').get_text()\n",
    "    author = li.select_one('span.author').get_text()\n",
    "    pub = li.select_one('span.company').get_text()\n",
    "\n",
    "    sub_url = site + href\n",
    "    sub_req = requests.get(sub_url)\n",
    "    sub_html = sub_req.text\n",
    "    sub_soup = BeautifulSoup(sub_html, 'html.parser')\n",
    "    fixed_price1 = sub_soup.select_one('p.fixedPrice').get_text()\n",
    "    fixed_price = fixed_price1.replace('원','').replace(',','')\n",
    "    price1 = sub_soup.select_one('span.price').get_text()\n",
    "    price = int(price1.replace(',',''))\n",
    "    date1 = sub_soup.select_one('ul.bInfo_txt').get_text()\n",
    "    date = ' '.join(date1.strip().split()[-9:-6]) \n",
    "    page1 = sub_soup.select_one('ul.bInfo_txt').get_text()\n",
    "    page = page1.strip().split()[-4] \n",
    "\n",
    "    lines.append([rank, name, author, pub, fixed_price, price, date, page])"
   ]
  },
  {
   "cell_type": "code",
   "execution_count": 96,
   "metadata": {},
   "outputs": [
    {
     "data": {
      "text/html": [
       "<div>\n",
       "<style scoped>\n",
       "    .dataframe tbody tr th:only-of-type {\n",
       "        vertical-align: middle;\n",
       "    }\n",
       "\n",
       "    .dataframe tbody tr th {\n",
       "        vertical-align: top;\n",
       "    }\n",
       "\n",
       "    .dataframe thead th {\n",
       "        text-align: right;\n",
       "    }\n",
       "</style>\n",
       "<table border=\"1\" class=\"dataframe\">\n",
       "  <thead>\n",
       "    <tr style=\"text-align: right;\">\n",
       "      <th></th>\n",
       "      <th>순위</th>\n",
       "      <th>책제목</th>\n",
       "      <th>저자</th>\n",
       "      <th>출판사</th>\n",
       "      <th>정가</th>\n",
       "      <th>할인가</th>\n",
       "      <th>발행일</th>\n",
       "      <th>쪽수</th>\n",
       "    </tr>\n",
       "  </thead>\n",
       "  <tbody>\n",
       "    <tr>\n",
       "      <th>0</th>\n",
       "      <td>01</td>\n",
       "      <td>트렌드 코리아 2022</td>\n",
       "      <td>김난도(金蘭都), 전미영, 최지혜, 이향은, 이준영</td>\n",
       "      <td>미래의창</td>\n",
       "      <td>18000</td>\n",
       "      <td>16200</td>\n",
       "      <td>2021년 10월 06일</td>\n",
       "      <td>452</td>\n",
       "    </tr>\n",
       "    <tr>\n",
       "      <th>1</th>\n",
       "      <td>02</td>\n",
       "      <td>2022 현직교사들이 들려주는 면접레시피</td>\n",
       "      <td>류은진, 양왕경, 이광한, 이지혜, 양왕경, 이광한, 이지혜</td>\n",
       "      <td>미래가치</td>\n",
       "      <td>47000</td>\n",
       "      <td>42300</td>\n",
       "      <td>2021년 11월 12일</td>\n",
       "      <td>1104</td>\n",
       "    </tr>\n",
       "    <tr>\n",
       "      <th>2</th>\n",
       "      <td>03</td>\n",
       "      <td>거인의 포트폴리오</td>\n",
       "      <td>강환국</td>\n",
       "      <td>페이지2북스</td>\n",
       "      <td>18000</td>\n",
       "      <td>16200</td>\n",
       "      <td>2021년 11월 08일</td>\n",
       "      <td>404</td>\n",
       "    </tr>\n",
       "    <tr>\n",
       "      <th>3</th>\n",
       "      <td>03</td>\n",
       "      <td>거꾸로 읽는 세계사</td>\n",
       "      <td>유시민(柳時敏)</td>\n",
       "      <td>돌베개</td>\n",
       "      <td>17500</td>\n",
       "      <td>15750</td>\n",
       "      <td>2021년 10월 29일</td>\n",
       "      <td>404</td>\n",
       "    </tr>\n",
       "    <tr>\n",
       "      <th>4</th>\n",
       "      <td>05</td>\n",
       "      <td>아직 오지 않은 날들을 위하여</td>\n",
       "      <td>파스칼 브뤼크네르/이세진 역</td>\n",
       "      <td>인플루엔셜</td>\n",
       "      <td>16000</td>\n",
       "      <td>14400</td>\n",
       "      <td>2021년 11월 12일</td>\n",
       "      <td>320</td>\n",
       "    </tr>\n",
       "    <tr>\n",
       "      <th>5</th>\n",
       "      <td>06</td>\n",
       "      <td>작은 별이지만 빛나고 있어(10만 부 기념 한정판 에디션)</td>\n",
       "      <td>소윤</td>\n",
       "      <td>북로망스</td>\n",
       "      <td>15000</td>\n",
       "      <td>13500</td>\n",
       "      <td>2021년 09월 29일</td>\n",
       "      <td>274</td>\n",
       "    </tr>\n",
       "    <tr>\n",
       "      <th>6</th>\n",
       "      <td>07</td>\n",
       "      <td>투자는 디테일에 있다</td>\n",
       "      <td>김정환</td>\n",
       "      <td>부케이</td>\n",
       "      <td>18000</td>\n",
       "      <td>16200</td>\n",
       "      <td>2021년 12월 10일</td>\n",
       "      <td>424</td>\n",
       "    </tr>\n",
       "    <tr>\n",
       "      <th>7</th>\n",
       "      <td>07</td>\n",
       "      <td>웰씽킹(Wealthinking)</td>\n",
       "      <td>켈리 최</td>\n",
       "      <td>다산북스</td>\n",
       "      <td>16000</td>\n",
       "      <td>14400</td>\n",
       "      <td>2021년 11월 10일</td>\n",
       "      <td>316</td>\n",
       "    </tr>\n",
       "    <tr>\n",
       "      <th>8</th>\n",
       "      <td>07</td>\n",
       "      <td>오십에 읽는 논어</td>\n",
       "      <td>최종엽</td>\n",
       "      <td>유노북스</td>\n",
       "      <td>16000</td>\n",
       "      <td>14400</td>\n",
       "      <td>2021년 11월 03일</td>\n",
       "      <td>300</td>\n",
       "    </tr>\n",
       "    <tr>\n",
       "      <th>9</th>\n",
       "      <td>10</td>\n",
       "      <td>소크라테스 익스프레스(20만 부 기념 윈터 에디션)</td>\n",
       "      <td>에릭 와이너/김하현 역</td>\n",
       "      <td>어크로스</td>\n",
       "      <td>18000</td>\n",
       "      <td>16200</td>\n",
       "      <td>2021년 11월 26일</td>\n",
       "      <td>524</td>\n",
       "    </tr>\n",
       "    <tr>\n",
       "      <th>10</th>\n",
       "      <td>10</td>\n",
       "      <td>달러구트 꿈 백화점. 2</td>\n",
       "      <td>이미예</td>\n",
       "      <td>팩토리나인</td>\n",
       "      <td>13800</td>\n",
       "      <td>12420</td>\n",
       "      <td>2021년 07월 27일</td>\n",
       "      <td>308</td>\n",
       "    </tr>\n",
       "    <tr>\n",
       "      <th>11</th>\n",
       "      <td>12</td>\n",
       "      <td>불편한 편의점(15만부 기념 윈터 에디션)</td>\n",
       "      <td>김호연</td>\n",
       "      <td>나무옆의자</td>\n",
       "      <td>14000</td>\n",
       "      <td>12600</td>\n",
       "      <td>2021년 04월 20일</td>\n",
       "      <td>268</td>\n",
       "    </tr>\n",
       "    <tr>\n",
       "      <th>12</th>\n",
       "      <td>13</td>\n",
       "      <td>달러구트 꿈 백화점</td>\n",
       "      <td>이미예</td>\n",
       "      <td>팩토리나인</td>\n",
       "      <td>13800</td>\n",
       "      <td>12420</td>\n",
       "      <td>2020년 07월 08일</td>\n",
       "      <td>300</td>\n",
       "    </tr>\n",
       "    <tr>\n",
       "      <th>13</th>\n",
       "      <td>14</td>\n",
       "      <td>흔한남매. 9</td>\n",
       "      <td>흔한남매, 백난도/유난희 그림</td>\n",
       "      <td>미래엔아이세움</td>\n",
       "      <td>13500</td>\n",
       "      <td>12150</td>\n",
       "      <td>2021년 12월 09일</td>\n",
       "      <td>192</td>\n",
       "    </tr>\n",
       "    <tr>\n",
       "      <th>14</th>\n",
       "      <td>14</td>\n",
       "      <td>NFT 레볼루션</td>\n",
       "      <td>성소라, 롤프 회퍼, 스콧 맥러플린</td>\n",
       "      <td>더퀘스트</td>\n",
       "      <td>18000</td>\n",
       "      <td>16200</td>\n",
       "      <td>2021년 09월 01일</td>\n",
       "      <td>324</td>\n",
       "    </tr>\n",
       "  </tbody>\n",
       "</table>\n",
       "</div>"
      ],
      "text/plain": [
       "    순위                                책제목                                 저자  \\\n",
       "0   01                      트렌드 코리아 2022        김난도(金蘭都), 전미영, 최지혜, 이향은, 이준영   \n",
       "1   02            2022 현직교사들이 들려주는 면접레시피   류은진, 양왕경, 이광한, 이지혜, 양왕경, 이광한, 이지혜   \n",
       "2   03                         거인의 포트폴리오                                 강환국   \n",
       "3   03                        거꾸로 읽는 세계사                            유시민(柳時敏)   \n",
       "4   05                  아직 오지 않은 날들을 위하여                     파스칼 브뤼크네르/이세진 역   \n",
       "5   06  작은 별이지만 빛나고 있어(10만 부 기념 한정판 에디션)                                  소윤   \n",
       "6   07                       투자는 디테일에 있다                                 김정환   \n",
       "7   07                 웰씽킹(Wealthinking)                                켈리 최   \n",
       "8   07                         오십에 읽는 논어                                 최종엽   \n",
       "9   10      소크라테스 익스프레스(20만 부 기념 윈터 에디션)                        에릭 와이너/김하현 역   \n",
       "10  10                     달러구트 꿈 백화점. 2                                 이미예   \n",
       "11  12           불편한 편의점(15만부 기념 윈터 에디션)                                 김호연   \n",
       "12  13                        달러구트 꿈 백화점                                 이미예   \n",
       "13  14                           흔한남매. 9                    흔한남매, 백난도/유난희 그림   \n",
       "14  14                          NFT 레볼루션                 성소라, 롤프 회퍼, 스콧 맥러플린   \n",
       "\n",
       "        출판사     정가    할인가            발행일    쪽수  \n",
       "0      미래의창  18000  16200  2021년 10월 06일   452  \n",
       "1      미래가치  47000  42300  2021년 11월 12일  1104  \n",
       "2    페이지2북스  18000  16200  2021년 11월 08일   404  \n",
       "3       돌베개  17500  15750  2021년 10월 29일   404  \n",
       "4     인플루엔셜  16000  14400  2021년 11월 12일   320  \n",
       "5      북로망스  15000  13500  2021년 09월 29일   274  \n",
       "6       부케이  18000  16200  2021년 12월 10일   424  \n",
       "7      다산북스  16000  14400  2021년 11월 10일   316  \n",
       "8      유노북스  16000  14400  2021년 11월 03일   300  \n",
       "9      어크로스  18000  16200  2021년 11월 26일   524  \n",
       "10    팩토리나인  13800  12420  2021년 07월 27일   308  \n",
       "11    나무옆의자  14000  12600  2021년 04월 20일   268  \n",
       "12    팩토리나인  13800  12420  2020년 07월 08일   300  \n",
       "13  미래엔아이세움  13500  12150  2021년 12월 09일   192  \n",
       "14     더퀘스트  18000  16200  2021년 09월 01일   324  "
      ]
     },
     "execution_count": 96,
     "metadata": {},
     "output_type": "execute_result"
    }
   ],
   "source": [
    "df = pd.DataFrame(lines, columns=['순위', '책제목', '저자', '출판사', '정가', '할인가', '발행일', '쪽수'])\n",
    "df"
   ]
  },
  {
   "cell_type": "code",
   "execution_count": 97,
   "metadata": {},
   "outputs": [],
   "source": [
    "df.to_csv('인터파크_베스트셀러_211206_16시.csv', index=False)"
   ]
  },
  {
   "cell_type": "code",
   "execution_count": null,
   "metadata": {},
   "outputs": [],
   "source": []
  }
 ],
 "metadata": {
  "interpreter": {
   "hash": "9f9dcbc3dbda920e9125360fe0104a4d858dfb1763bce9adddd9113b29fead37"
  },
  "kernelspec": {
   "display_name": "Python 3.8.8 64-bit ('base': conda)",
   "language": "python",
   "name": "python3"
  },
  "language_info": {
   "codemirror_mode": {
    "name": "ipython",
    "version": 3
   },
   "file_extension": ".py",
   "mimetype": "text/x-python",
   "name": "python",
   "nbconvert_exporter": "python",
   "pygments_lexer": "ipython3",
   "version": "3.8.8"
  },
  "orig_nbformat": 4
 },
 "nbformat": 4,
 "nbformat_minor": 2
}
