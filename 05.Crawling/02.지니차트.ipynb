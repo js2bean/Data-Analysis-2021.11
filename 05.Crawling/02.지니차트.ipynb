{
 "cells": [
  {
   "cell_type": "code",
   "execution_count": 45,
   "metadata": {},
   "outputs": [],
   "source": [
    "import requests\n",
    "import pandas as pd\n"
   ]
  },
  {
   "cell_type": "markdown",
   "metadata": {},
   "source": [
    "### 1. 인터넷에서 데이터 가져오기"
   ]
  },
  {
   "cell_type": "code",
   "execution_count": 46,
   "metadata": {},
   "outputs": [
    {
     "data": {
      "text/plain": [
       "'<br>\\r\\n<br>\\r\\n<center>\\r\\n<img src=\"http://www.geniemusic.co.kr/images/common/logo_r1.png\"><br>\\r\\n<h2> <meta http-equiv=\"Content-Type\" content=\"text/html;charset=UTF-8\"> ì\\xa0\\x91ì\\x86\\x8dì\\x9a\\x94ì²\\xadì\\x9d´ ë³´ì\\x95\\x88ì\\xa0\\x95ì±\\x85ì\\x97\\x90 ì\\x9d\\x98í\\x95´ ì°¨ë\\x8b¨ë\\x90\\x98ì\\x97\\x88ì\\x8aµë\\x8b\\x88ë\\x8b¤. ë\\x8b¹ì\\x82¬ ê³\\xa0ê°\\x9dì\\x84¼í\\x84°ë¡\\x9c ë¬¸ì\\x9d\\x98í\\x95´ì£¼ì\\x8b\\xadì\\x8b\\x9cì\\x98¤.<br><br>\\r\\nThe security policy of the connection request is blocked. Contact your customer service representative.<br><br>\\r\\nì§\\x80ë\\x8b\\x88ë®¤ì§\\x81 ê³\\xa0ê°\\x9dì\\x84¼í\\x84° 1577-5337<br><br>\\r\\n</h2>\\r\\n</center>\\r\\n<br>'"
      ]
     },
     "execution_count": 46,
     "metadata": {},
     "output_type": "execute_result"
    }
   ],
   "source": [
    "# 지니차트 top200\n",
    "\n",
    "url = 'https://genie.co.kr/chart/top200'\n",
    "req = requests.get(url)\n",
    "html = req.text\n",
    "html"
   ]
  },
  {
   "cell_type": "code",
   "execution_count": 47,
   "metadata": {},
   "outputs": [],
   "source": [
    "# Chrome User agent\n",
    "\n",
    "header = {'User-Agent':\n",
    "            \"Mozilla/5.0 (Windows NT 10.0; Win64; x64) AppleWebKit/537.36 (KHTML, like Gecko) Chrome/80.0.3987.122 Safari/537.36\"\n",
    "}\n",
    "req = requests.get(url, headers=header)\n",
    "html = req.text\n",
    "# html"
   ]
  },
  {
   "cell_type": "code",
   "execution_count": 48,
   "metadata": {},
   "outputs": [],
   "source": [
    "from bs4 import BeautifulSoup\n",
    "\n",
    "soup = BeautifulSoup(html, 'html.parser')\n"
   ]
  },
  {
   "cell_type": "markdown",
   "metadata": {},
   "source": [
    "### 찾으려고 하는 데이터의 노드 찾기"
   ]
  },
  {
   "cell_type": "code",
   "execution_count": 49,
   "metadata": {},
   "outputs": [
    {
     "data": {
      "text/plain": [
       "51"
      ]
     },
     "execution_count": 49,
     "metadata": {},
     "output_type": "execute_result"
    }
   ],
   "source": [
    "trs = soup.find_all('tr')\n",
    "len(trs)"
   ]
  },
  {
   "cell_type": "code",
   "execution_count": 50,
   "metadata": {},
   "outputs": [
    {
     "data": {
      "text/plain": [
       "50"
      ]
     },
     "execution_count": 50,
     "metadata": {},
     "output_type": "execute_result"
    }
   ],
   "source": [
    "tbody = soup.select_one('table.list-wrap').find('tbody')\n",
    "trs = tbody.select('tr')\n",
    "len(trs)\n"
   ]
  },
  {
   "cell_type": "code",
   "execution_count": 51,
   "metadata": {},
   "outputs": [
    {
     "data": {
      "text/plain": [
       "50"
      ]
     },
     "execution_count": 51,
     "metadata": {},
     "output_type": "execute_result"
    }
   ],
   "source": [
    "# 우클릭 > copy selector\n",
    "\n",
    "tbody = soup.select_one('#body-content > div.newest-list > div > table > tbody')\n",
    "trs = tbody.select('tr')\n",
    "len(trs)"
   ]
  },
  {
   "cell_type": "code",
   "execution_count": 52,
   "metadata": {},
   "outputs": [],
   "source": [
    "# 우클릭 > copy Xpath  (Selenium에서 사용 가능 / BeautifulSoup은 X)\n",
    " \n",
    "# //*[@id=\"body-content\"]/div[6]/div/table/tbody    "
   ]
  },
  {
   "cell_type": "markdown",
   "metadata": {},
   "source": [
    "### 3. 여러개의 데이터 중 하나를 선택해서 원하는 정보를 추출\n",
    "- rank, title, artist, album"
   ]
  },
  {
   "cell_type": "code",
   "execution_count": 53,
   "metadata": {},
   "outputs": [],
   "source": [
    "tr = trs[0]"
   ]
  },
  {
   "cell_type": "code",
   "execution_count": 54,
   "metadata": {},
   "outputs": [
    {
     "data": {
      "text/plain": [
       "'1\\n                                        \\n                                    \\n유지\\n\\n'"
      ]
     },
     "execution_count": 54,
     "metadata": {},
     "output_type": "execute_result"
    }
   ],
   "source": [
    "# rank\n",
    "tr.select_one('.number').get_text()"
   ]
  },
  {
   "cell_type": "code",
   "execution_count": 55,
   "metadata": {},
   "outputs": [
    {
     "data": {
      "text/plain": [
       "'1'"
      ]
     },
     "execution_count": 55,
     "metadata": {},
     "output_type": "execute_result"
    }
   ],
   "source": [
    "rank = tr.select_one('.number').get_text().split('\\n')[0]\n",
    "rank"
   ]
  },
  {
   "cell_type": "code",
   "execution_count": 56,
   "metadata": {},
   "outputs": [
    {
     "data": {
      "text/plain": [
       "'\\n                                        \\n                                            \\n                                        \\n                                        \\n                                        \\n                                        \\n                                            \\n                                                리무진 (Feat. MINO) (Prod. by GRAY)'"
      ]
     },
     "execution_count": 56,
     "metadata": {},
     "output_type": "execute_result"
    }
   ],
   "source": [
    "#title\n",
    "\n",
    "tr.select_one('.title.ellipsis').get_text()       # 클래스가 두개(스페이스로 구분)"
   ]
  },
  {
   "cell_type": "code",
   "execution_count": 57,
   "metadata": {},
   "outputs": [
    {
     "data": {
      "text/plain": [
       "'리무진 (Feat. MINO) (Prod. by GRAY)'"
      ]
     },
     "execution_count": 57,
     "metadata": {},
     "output_type": "execute_result"
    }
   ],
   "source": [
    "title = tr.select_one('.title.ellipsis').get_text().strip()\n",
    "title"
   ]
  },
  {
   "cell_type": "code",
   "execution_count": 58,
   "metadata": {},
   "outputs": [
    {
     "data": {
      "text/plain": [
       "\"BE'O (비오)\""
      ]
     },
     "execution_count": 58,
     "metadata": {},
     "output_type": "execute_result"
    }
   ],
   "source": [
    "# artist\n",
    "\n",
    "artist = tr.select_one('.artist.ellipsis').get_text().strip()\n",
    "artist"
   ]
  },
  {
   "cell_type": "code",
   "execution_count": 59,
   "metadata": {},
   "outputs": [
    {
     "data": {
      "text/plain": [
       "'쇼미더머니 10 Episode 3'"
      ]
     },
     "execution_count": 59,
     "metadata": {},
     "output_type": "execute_result"
    }
   ],
   "source": [
    "# album\n",
    "\n",
    "album = tr.select_one('.albumtitle.ellipsis').get_text().strip()\n",
    "album"
   ]
  },
  {
   "cell_type": "markdown",
   "metadata": {},
   "source": [
    "### 4. 한 페이지에 있는 모든 데이터를 반복문으로 가져와 데이터프레임 만들기\n",
    "\n",
    "- 1) 개별리스트 만들기 (reank_list, title_list...)\n",
    "- 2) 딕셔너리 리스트 만들기 {순위:rank, 제목:title...}"
   ]
  },
  {
   "cell_type": "code",
   "execution_count": 60,
   "metadata": {},
   "outputs": [],
   "source": [
    "# 개별리스트 만들기\n",
    "\n",
    "rank_list , title_list, artist_list, album_list = [],[],[],[]\n",
    "\n",
    "for tr in trs:\n",
    "    rank = tr.select_one('.number').get_text().split('\\n')[0]\n",
    "    title = tr.select_one('.title.ellipsis').get_text().strip()\n",
    "    artist = tr.select_one('.artist.ellipsis').get_text().strip()\n",
    "    album = tr.select_one('.albumtitle.ellipsis').get_text().strip()\n",
    "    rank_list.append(rank), \n",
    "    title_list.append(title), \n",
    "    artist_list.append(artist), \n",
    "    album_list.append(album)"
   ]
  },
  {
   "cell_type": "code",
   "execution_count": 61,
   "metadata": {},
   "outputs": [
    {
     "data": {
      "text/html": [
       "<div>\n",
       "<style scoped>\n",
       "    .dataframe tbody tr th:only-of-type {\n",
       "        vertical-align: middle;\n",
       "    }\n",
       "\n",
       "    .dataframe tbody tr th {\n",
       "        vertical-align: top;\n",
       "    }\n",
       "\n",
       "    .dataframe thead th {\n",
       "        text-align: right;\n",
       "    }\n",
       "</style>\n",
       "<table border=\"1\" class=\"dataframe\">\n",
       "  <thead>\n",
       "    <tr style=\"text-align: right;\">\n",
       "      <th></th>\n",
       "      <th>제목</th>\n",
       "      <th>가수</th>\n",
       "      <th>앨범</th>\n",
       "    </tr>\n",
       "    <tr>\n",
       "      <th>순위</th>\n",
       "      <th></th>\n",
       "      <th></th>\n",
       "      <th></th>\n",
       "    </tr>\n",
       "  </thead>\n",
       "  <tbody>\n",
       "    <tr>\n",
       "      <th>1</th>\n",
       "      <td>리무진 (Feat. MINO) (Prod. by GRAY)</td>\n",
       "      <td>BE'O (비오)</td>\n",
       "      <td>쇼미더머니 10 Episode 3</td>\n",
       "    </tr>\n",
       "    <tr>\n",
       "      <th>2</th>\n",
       "      <td>회전목마 (Feat. Zion.T &amp; 원슈타인) (Prod. by Slom)</td>\n",
       "      <td>sokodomo</td>\n",
       "      <td>쇼미더머니 10 Episode 2</td>\n",
       "    </tr>\n",
       "    <tr>\n",
       "      <th>3</th>\n",
       "      <td>만남은 쉽고 이별은 어려워 (Feat. Leellamarz) (Prod. by TOIL)</td>\n",
       "      <td>베이식</td>\n",
       "      <td>쇼미더머니 10 Episode 3</td>\n",
       "    </tr>\n",
       "    <tr>\n",
       "      <th>4</th>\n",
       "      <td>사랑은 늘 도망가</td>\n",
       "      <td>임영웅</td>\n",
       "      <td>신사와 아가씨 OST Part.2</td>\n",
       "    </tr>\n",
       "    <tr>\n",
       "      <th>5</th>\n",
       "      <td>불협화음 (Feat. AKMU) (Prod. by GRAY)</td>\n",
       "      <td>Mudd the student</td>\n",
       "      <td>쇼미더머니 10 Semi Final</td>\n",
       "    </tr>\n",
       "  </tbody>\n",
       "</table>\n",
       "</div>"
      ],
      "text/plain": [
       "                                                   제목                가수  \\\n",
       "순위                                                                        \n",
       "1                    리무진 (Feat. MINO) (Prod. by GRAY)         BE'O (비오)   \n",
       "2          회전목마 (Feat. Zion.T & 원슈타인) (Prod. by Slom)          sokodomo   \n",
       "3   만남은 쉽고 이별은 어려워 (Feat. Leellamarz) (Prod. by TOIL)               베이식   \n",
       "4                                           사랑은 늘 도망가               임영웅   \n",
       "5                   불협화음 (Feat. AKMU) (Prod. by GRAY)  Mudd the student   \n",
       "\n",
       "                     앨범  \n",
       "순위                       \n",
       "1    쇼미더머니 10 Episode 3  \n",
       "2    쇼미더머니 10 Episode 2  \n",
       "3    쇼미더머니 10 Episode 3  \n",
       "4    신사와 아가씨 OST Part.2  \n",
       "5   쇼미더머니 10 Semi Final  "
      ]
     },
     "execution_count": 61,
     "metadata": {},
     "output_type": "execute_result"
    }
   ],
   "source": [
    "df = pd.DataFrame({\n",
    "    '순위':rank_list,'제목':title_list,'가수':artist_list,'앨범':album_list\n",
    "})\n",
    "df.set_index('순위', inplace=True)\n",
    "df.head()"
   ]
  },
  {
   "cell_type": "code",
   "execution_count": 62,
   "metadata": {},
   "outputs": [
    {
     "data": {
      "text/html": [
       "<div>\n",
       "<style scoped>\n",
       "    .dataframe tbody tr th:only-of-type {\n",
       "        vertical-align: middle;\n",
       "    }\n",
       "\n",
       "    .dataframe tbody tr th {\n",
       "        vertical-align: top;\n",
       "    }\n",
       "\n",
       "    .dataframe thead th {\n",
       "        text-align: right;\n",
       "    }\n",
       "</style>\n",
       "<table border=\"1\" class=\"dataframe\">\n",
       "  <thead>\n",
       "    <tr style=\"text-align: right;\">\n",
       "      <th></th>\n",
       "      <th>순위</th>\n",
       "      <th>제목</th>\n",
       "      <th>가수</th>\n",
       "      <th>앨범</th>\n",
       "    </tr>\n",
       "  </thead>\n",
       "  <tbody>\n",
       "    <tr>\n",
       "      <th>0</th>\n",
       "      <td>1</td>\n",
       "      <td>리무진 (Feat. MINO) (Prod. by GRAY)</td>\n",
       "      <td>BE'O (비오)</td>\n",
       "      <td>쇼미더머니 10 Episode 3</td>\n",
       "    </tr>\n",
       "    <tr>\n",
       "      <th>1</th>\n",
       "      <td>2</td>\n",
       "      <td>회전목마 (Feat. Zion.T &amp; 원슈타인) (Prod. by Slom)</td>\n",
       "      <td>sokodomo</td>\n",
       "      <td>쇼미더머니 10 Episode 2</td>\n",
       "    </tr>\n",
       "    <tr>\n",
       "      <th>2</th>\n",
       "      <td>3</td>\n",
       "      <td>만남은 쉽고 이별은 어려워 (Feat. Leellamarz) (Prod. by TOIL)</td>\n",
       "      <td>베이식</td>\n",
       "      <td>쇼미더머니 10 Episode 3</td>\n",
       "    </tr>\n",
       "    <tr>\n",
       "      <th>3</th>\n",
       "      <td>4</td>\n",
       "      <td>사랑은 늘 도망가</td>\n",
       "      <td>임영웅</td>\n",
       "      <td>신사와 아가씨 OST Part.2</td>\n",
       "    </tr>\n",
       "    <tr>\n",
       "      <th>4</th>\n",
       "      <td>5</td>\n",
       "      <td>불협화음 (Feat. AKMU) (Prod. by GRAY)</td>\n",
       "      <td>Mudd the student</td>\n",
       "      <td>쇼미더머니 10 Semi Final</td>\n",
       "    </tr>\n",
       "  </tbody>\n",
       "</table>\n",
       "</div>"
      ],
      "text/plain": [
       "  순위                                                 제목                가수  \\\n",
       "0  1                   리무진 (Feat. MINO) (Prod. by GRAY)         BE'O (비오)   \n",
       "1  2         회전목마 (Feat. Zion.T & 원슈타인) (Prod. by Slom)          sokodomo   \n",
       "2  3  만남은 쉽고 이별은 어려워 (Feat. Leellamarz) (Prod. by TOIL)               베이식   \n",
       "3  4                                          사랑은 늘 도망가               임영웅   \n",
       "4  5                  불협화음 (Feat. AKMU) (Prod. by GRAY)  Mudd the student   \n",
       "\n",
       "                    앨범  \n",
       "0   쇼미더머니 10 Episode 3  \n",
       "1   쇼미더머니 10 Episode 2  \n",
       "2   쇼미더머니 10 Episode 3  \n",
       "3   신사와 아가씨 OST Part.2  \n",
       "4  쇼미더머니 10 Semi Final  "
      ]
     },
     "execution_count": 62,
     "metadata": {},
     "output_type": "execute_result"
    }
   ],
   "source": [
    "# 방법 2\n",
    "\n",
    "lines = []\n",
    "\n",
    "for tr in trs:\n",
    "    rank = tr.select_one('.number').get_text().split('\\n')[0]\n",
    "    title = tr.select_one('.title.ellipsis').get_text().strip()\n",
    "    artist = tr.select_one('.artist.ellipsis').get_text().strip()\n",
    "    album = tr.select_one('.albumtitle.ellipsis').get_text().strip()\n",
    "    lines.append([rank,title,artist,album])\n",
    "\n",
    "df = pd.DataFrame(lines, columns=['순위','제목','가수','앨범'])\n",
    "df.head()"
   ]
  },
  {
   "cell_type": "code",
   "execution_count": 63,
   "metadata": {},
   "outputs": [
    {
     "data": {
      "text/html": [
       "<div>\n",
       "<style scoped>\n",
       "    .dataframe tbody tr th:only-of-type {\n",
       "        vertical-align: middle;\n",
       "    }\n",
       "\n",
       "    .dataframe tbody tr th {\n",
       "        vertical-align: top;\n",
       "    }\n",
       "\n",
       "    .dataframe thead th {\n",
       "        text-align: right;\n",
       "    }\n",
       "</style>\n",
       "<table border=\"1\" class=\"dataframe\">\n",
       "  <thead>\n",
       "    <tr style=\"text-align: right;\">\n",
       "      <th></th>\n",
       "      <th>순위</th>\n",
       "      <th>제목</th>\n",
       "      <th>가수</th>\n",
       "      <th>앨범</th>\n",
       "    </tr>\n",
       "  </thead>\n",
       "  <tbody>\n",
       "    <tr>\n",
       "      <th>0</th>\n",
       "      <td>1</td>\n",
       "      <td>리무진 (Feat. MINO) (Prod. by GRAY)</td>\n",
       "      <td>BE'O (비오)</td>\n",
       "      <td>쇼미더머니 10 Episode 3</td>\n",
       "    </tr>\n",
       "    <tr>\n",
       "      <th>1</th>\n",
       "      <td>2</td>\n",
       "      <td>회전목마 (Feat. Zion.T &amp; 원슈타인) (Prod. by Slom)</td>\n",
       "      <td>sokodomo</td>\n",
       "      <td>쇼미더머니 10 Episode 2</td>\n",
       "    </tr>\n",
       "    <tr>\n",
       "      <th>2</th>\n",
       "      <td>3</td>\n",
       "      <td>만남은 쉽고 이별은 어려워 (Feat. Leellamarz) (Prod. by TOIL)</td>\n",
       "      <td>베이식</td>\n",
       "      <td>쇼미더머니 10 Episode 3</td>\n",
       "    </tr>\n",
       "    <tr>\n",
       "      <th>3</th>\n",
       "      <td>4</td>\n",
       "      <td>사랑은 늘 도망가</td>\n",
       "      <td>임영웅</td>\n",
       "      <td>신사와 아가씨 OST Part.2</td>\n",
       "    </tr>\n",
       "    <tr>\n",
       "      <th>4</th>\n",
       "      <td>5</td>\n",
       "      <td>불협화음 (Feat. AKMU) (Prod. by GRAY)</td>\n",
       "      <td>Mudd the student</td>\n",
       "      <td>쇼미더머니 10 Semi Final</td>\n",
       "    </tr>\n",
       "  </tbody>\n",
       "</table>\n",
       "</div>"
      ],
      "text/plain": [
       "  순위                                                 제목                가수  \\\n",
       "0  1                   리무진 (Feat. MINO) (Prod. by GRAY)         BE'O (비오)   \n",
       "1  2         회전목마 (Feat. Zion.T & 원슈타인) (Prod. by Slom)          sokodomo   \n",
       "2  3  만남은 쉽고 이별은 어려워 (Feat. Leellamarz) (Prod. by TOIL)               베이식   \n",
       "3  4                                          사랑은 늘 도망가               임영웅   \n",
       "4  5                  불협화음 (Feat. AKMU) (Prod. by GRAY)  Mudd the student   \n",
       "\n",
       "                    앨범  \n",
       "0   쇼미더머니 10 Episode 3  \n",
       "1   쇼미더머니 10 Episode 2  \n",
       "2   쇼미더머니 10 Episode 3  \n",
       "3   신사와 아가씨 OST Part.2  \n",
       "4  쇼미더머니 10 Semi Final  "
      ]
     },
     "execution_count": 63,
     "metadata": {},
     "output_type": "execute_result"
    }
   ],
   "source": [
    "# 방법3\n",
    "\n",
    "lines = []\n",
    "\n",
    "for tr in trs:\n",
    "    rank = tr.select_one('.number').get_text().split('\\n')[0]\n",
    "    title = tr.select_one('.title.ellipsis').get_text().strip()\n",
    "    artist = tr.select_one('.artist.ellipsis').get_text().strip()\n",
    "    album = tr.select_one('.albumtitle.ellipsis').get_text().strip()\n",
    "    d={'순위':rank,'제목':title,'가수':artist,'앨범':album}\n",
    "    lines.append(d)\n",
    "\n",
    "df = pd.DataFrame(lines)\n",
    "df.head()"
   ]
  },
  {
   "cell_type": "markdown",
   "metadata": {},
   "source": [
    "### 5. 모든페이지의 데이터 가져오기"
   ]
  },
  {
   "cell_type": "code",
   "execution_count": 66,
   "metadata": {},
   "outputs": [
    {
     "data": {
      "text/html": [
       "<div>\n",
       "<style scoped>\n",
       "    .dataframe tbody tr th:only-of-type {\n",
       "        vertical-align: middle;\n",
       "    }\n",
       "\n",
       "    .dataframe tbody tr th {\n",
       "        vertical-align: top;\n",
       "    }\n",
       "\n",
       "    .dataframe thead th {\n",
       "        text-align: right;\n",
       "    }\n",
       "</style>\n",
       "<table border=\"1\" class=\"dataframe\">\n",
       "  <thead>\n",
       "    <tr style=\"text-align: right;\">\n",
       "      <th></th>\n",
       "      <th>순위</th>\n",
       "      <th>제목</th>\n",
       "      <th>가수</th>\n",
       "      <th>앨범</th>\n",
       "    </tr>\n",
       "  </thead>\n",
       "  <tbody>\n",
       "    <tr>\n",
       "      <th>0</th>\n",
       "      <td>1</td>\n",
       "      <td>리무진 (Feat. MINO) (Prod. by GRAY)</td>\n",
       "      <td>BE'O (비오)</td>\n",
       "      <td>쇼미더머니 10 Episode 3</td>\n",
       "    </tr>\n",
       "    <tr>\n",
       "      <th>1</th>\n",
       "      <td>2</td>\n",
       "      <td>회전목마 (Feat. Zion.T &amp; 원슈타인) (Prod. by Slom)</td>\n",
       "      <td>sokodomo</td>\n",
       "      <td>쇼미더머니 10 Episode 2</td>\n",
       "    </tr>\n",
       "    <tr>\n",
       "      <th>2</th>\n",
       "      <td>3</td>\n",
       "      <td>만남은 쉽고 이별은 어려워 (Feat. Leellamarz) (Prod. by TOIL)</td>\n",
       "      <td>베이식</td>\n",
       "      <td>쇼미더머니 10 Episode 3</td>\n",
       "    </tr>\n",
       "    <tr>\n",
       "      <th>3</th>\n",
       "      <td>4</td>\n",
       "      <td>사랑은 늘 도망가</td>\n",
       "      <td>임영웅</td>\n",
       "      <td>신사와 아가씨 OST Part.2</td>\n",
       "    </tr>\n",
       "    <tr>\n",
       "      <th>4</th>\n",
       "      <td>5</td>\n",
       "      <td>불협화음 (Feat. AKMU) (Prod. by GRAY)</td>\n",
       "      <td>Mudd the student</td>\n",
       "      <td>쇼미더머니 10 Semi Final</td>\n",
       "    </tr>\n",
       "  </tbody>\n",
       "</table>\n",
       "</div>"
      ],
      "text/plain": [
       "  순위                                                 제목                가수  \\\n",
       "0  1                   리무진 (Feat. MINO) (Prod. by GRAY)         BE'O (비오)   \n",
       "1  2         회전목마 (Feat. Zion.T & 원슈타인) (Prod. by Slom)          sokodomo   \n",
       "2  3  만남은 쉽고 이별은 어려워 (Feat. Leellamarz) (Prod. by TOIL)               베이식   \n",
       "3  4                                          사랑은 늘 도망가               임영웅   \n",
       "4  5                  불협화음 (Feat. AKMU) (Prod. by GRAY)  Mudd the student   \n",
       "\n",
       "                    앨범  \n",
       "0   쇼미더머니 10 Episode 3  \n",
       "1   쇼미더머니 10 Episode 2  \n",
       "2   쇼미더머니 10 Episode 3  \n",
       "3   신사와 아가씨 OST Part.2  \n",
       "4  쇼미더머니 10 Semi Final  "
      ]
     },
     "execution_count": 66,
     "metadata": {},
     "output_type": "execute_result"
    }
   ],
   "source": [
    "lines = []\n",
    "\n",
    "for page in range(1,5):\n",
    "    url = f'https://genie.co.kr/chart/top200?ditc=D&ymd=20211206&hh=10&rtm=Y&pg={page}'\n",
    "    req = requests.get(url, headers=header)\n",
    "    html = req.text\n",
    "    soup = BeautifulSoup(html, 'html.parser')\n",
    "    tbody = soup.select_one('table.list-wrap').find('tbody')\n",
    "    trs = tbody.select('tr')\n",
    "\n",
    "\n",
    "    for tr in trs:\n",
    "        rank = tr.select_one('.number').get_text().split('\\n')[0]\n",
    "        title = tr.select_one('.title.ellipsis').get_text().strip()\n",
    "        artist = tr.select_one('.artist.ellipsis').get_text().strip()\n",
    "        album = tr.select_one('.albumtitle.ellipsis').get_text().strip()\n",
    "        lines.append([rank,title,artist,album])\n",
    "\n",
    "df = pd.DataFrame(lines, columns=['순위','제목','가수','앨범'])\n",
    "df.head()\n",
    "    "
   ]
  },
  {
   "cell_type": "code",
   "execution_count": 67,
   "metadata": {},
   "outputs": [],
   "source": [
    "df.to_csv('지니차트_Top200(211206).csv', index=False)"
   ]
  },
  {
   "cell_type": "code",
   "execution_count": null,
   "metadata": {},
   "outputs": [],
   "source": []
  }
 ],
 "metadata": {
  "interpreter": {
   "hash": "9f9dcbc3dbda920e9125360fe0104a4d858dfb1763bce9adddd9113b29fead37"
  },
  "kernelspec": {
   "display_name": "Python 3.8.8 64-bit ('base': conda)",
   "language": "python",
   "name": "python3"
  },
  "language_info": {
   "codemirror_mode": {
    "name": "ipython",
    "version": 3
   },
   "file_extension": ".py",
   "mimetype": "text/x-python",
   "name": "python",
   "nbconvert_exporter": "python",
   "pygments_lexer": "ipython3",
   "version": "3.8.8"
  },
  "orig_nbformat": 4
 },
 "nbformat": 4,
 "nbformat_minor": 2
}
